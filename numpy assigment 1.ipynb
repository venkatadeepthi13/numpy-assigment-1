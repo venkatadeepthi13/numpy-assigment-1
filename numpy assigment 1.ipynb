{
 "cells": [
  {
   "cell_type": "code",
   "execution_count": 1,
   "id": "17cef49b",
   "metadata": {},
   "outputs": [],
   "source": [
    "#Write a program to create a 5 dimensional array with all zeros and ones"
   ]
  },
  {
   "cell_type": "code",
   "execution_count": 2,
   "id": "98b192a5",
   "metadata": {},
   "outputs": [],
   "source": [
    "import numpy as np"
   ]
  },
  {
   "cell_type": "code",
   "execution_count": 59,
   "id": "6119fda7",
   "metadata": {},
   "outputs": [
    {
     "data": {
      "text/plain": [
       "array([[[[[0, 1],\n",
       "          [1, 0]],\n",
       "\n",
       "         [[0, 0],\n",
       "          [0, 0]]],\n",
       "\n",
       "\n",
       "        [[[0, 1],\n",
       "          [1, 0]],\n",
       "\n",
       "         [[1, 0],\n",
       "          [1, 1]]]],\n",
       "\n",
       "\n",
       "\n",
       "       [[[[1, 1],\n",
       "          [0, 0]],\n",
       "\n",
       "         [[1, 1],\n",
       "          [0, 0]]],\n",
       "\n",
       "\n",
       "        [[[0, 1],\n",
       "          [1, 0]],\n",
       "\n",
       "         [[0, 0],\n",
       "          [1, 1]]]]])"
      ]
     },
     "execution_count": 59,
     "metadata": {},
     "output_type": "execute_result"
    }
   ],
   "source": [
    "arr1=np.random.randint(2,size=(2,2,2,2,2))\n",
    "arr1"
   ]
  },
  {
   "cell_type": "code",
   "execution_count": 2,
   "id": "561a53d6",
   "metadata": {},
   "outputs": [],
   "source": [
    "#Write a program to create an array of 10 zeros,10 ones, and 10 fives in row 1 2 and 3 which create a new array of shape (3,10)"
   ]
  },
  {
   "cell_type": "code",
   "execution_count": 63,
   "id": "09af4fe7",
   "metadata": {},
   "outputs": [
    {
     "data": {
      "text/plain": [
       "array([[0, 0, 0, 0, 0, 0, 0, 0, 0, 0],\n",
       "       [1, 1, 1, 1, 1, 1, 1, 1, 1, 1],\n",
       "       [5, 5, 5, 5, 5, 5, 5, 5, 5, 5]])"
      ]
     },
     "execution_count": 63,
     "metadata": {},
     "output_type": "execute_result"
    }
   ],
   "source": [
    "arr1=np.array([[0,0,0,0,0,0,0,0,0,0],[1,1,1,1,1,1,1,1,1,1],[5,5,5,5,5,5,5,5,5,5]])\n",
    "arr1"
   ]
  },
  {
   "cell_type": "code",
   "execution_count": 3,
   "id": "a40567e7",
   "metadata": {},
   "outputs": [],
   "source": [
    "#Write a program to create a 3x4 matrix filled with values from 10 to 21."
   ]
  },
  {
   "cell_type": "code",
   "execution_count": 60,
   "id": "0a43c69f",
   "metadata": {},
   "outputs": [
    {
     "data": {
      "text/plain": [
       "array([[10, 11, 12, 13],\n",
       "       [14, 15, 16, 17],\n",
       "       [18, 19, 20, 21]])"
      ]
     },
     "execution_count": 60,
     "metadata": {},
     "output_type": "execute_result"
    }
   ],
   "source": [
    "arr1=np.arange(10,22).reshape(3,4)\n",
    "arr1"
   ]
  },
  {
   "cell_type": "code",
   "execution_count": 4,
   "id": "58676a1e",
   "metadata": {},
   "outputs": [],
   "source": [
    "#Write a  program to create a 10x10 zero matrix with elements on the main diagonal equal to 0,1,2,3,4,5,6,7,8,9,"
   ]
  },
  {
   "cell_type": "code",
   "execution_count": 57,
   "id": "e202ec00",
   "metadata": {},
   "outputs": [
    {
     "data": {
      "text/plain": [
       "array([[1, 0, 0, 0, 0, 0, 0, 0, 0],\n",
       "       [0, 2, 0, 0, 0, 0, 0, 0, 0],\n",
       "       [0, 0, 3, 0, 0, 0, 0, 0, 0],\n",
       "       [0, 0, 0, 4, 0, 0, 0, 0, 0],\n",
       "       [0, 0, 0, 0, 5, 0, 0, 0, 0],\n",
       "       [0, 0, 0, 0, 0, 6, 0, 0, 0],\n",
       "       [0, 0, 0, 0, 0, 0, 7, 0, 0],\n",
       "       [0, 0, 0, 0, 0, 0, 0, 8, 0],\n",
       "       [0, 0, 0, 0, 0, 0, 0, 0, 9]])"
      ]
     },
     "execution_count": 57,
     "metadata": {},
     "output_type": "execute_result"
    }
   ],
   "source": [
    "arr1=np.diag([1,2,3,4,5,6,7,8,9])\n",
    "arr1"
   ]
  },
  {
   "cell_type": "code",
   "execution_count": 5,
   "id": "0e228c4a",
   "metadata": {},
   "outputs": [],
   "source": [
    "#Write a program to create a 4x4 array. Create an array from below array by swapping first and last, second and third columns."
   ]
  },
  {
   "cell_type": "code",
   "execution_count": 44,
   "id": "ff313ce5",
   "metadata": {},
   "outputs": [
    {
     "data": {
      "text/plain": [
       "array([[ 1,  2,  3,  4],\n",
       "       [ 5,  6,  7,  8],\n",
       "       [ 9, 10, 11, 12],\n",
       "       [13, 14, 15, 16]])"
      ]
     },
     "execution_count": 44,
     "metadata": {},
     "output_type": "execute_result"
    }
   ],
   "source": [
    "arr1=np.arange(1,17).reshape(4,4)\n",
    "arr1"
   ]
  },
  {
   "cell_type": "code",
   "execution_count": 45,
   "id": "5b59b0a2",
   "metadata": {},
   "outputs": [
    {
     "data": {
      "text/plain": [
       "array([[ 4,  3,  2,  1],\n",
       "       [ 8,  7,  6,  5],\n",
       "       [12, 11, 10,  9],\n",
       "       [16, 15, 14, 13]])"
      ]
     },
     "execution_count": 45,
     "metadata": {},
     "output_type": "execute_result"
    }
   ],
   "source": [
    "arr1[::,::-1]"
   ]
  },
  {
   "cell_type": "code",
   "execution_count": 6,
   "id": "3839138a",
   "metadata": {},
   "outputs": [],
   "source": [
    "#Write a program to reverse an array (the first element becomes the last).\n",
    "#Given array:\n",
    "#[12 13 14 15 16 17 18 19 20 21 22 23 24 25 26 27 ]"
   ]
  },
  {
   "cell_type": "code",
   "execution_count": 37,
   "id": "9d76496f",
   "metadata": {},
   "outputs": [
    {
     "data": {
      "text/plain": [
       "array([27, 26, 25, 24, 23, 22, 21, 20, 19, 18, 17, 16, 15, 14, 13, 12])"
      ]
     },
     "execution_count": 37,
     "metadata": {},
     "output_type": "execute_result"
    }
   ],
   "source": [
    "arr=np.array([12,13,14,15,16,17,18,19,20,21,22,23,24,25,26,27])\n",
    "arr[::-1]"
   ]
  },
  {
   "cell_type": "code",
   "execution_count": 7,
   "id": "d5538201",
   "metadata": {},
   "outputs": [],
   "source": [
    "#Write a program to access all the elements greater than 30 and less than 80 and multiples of 5 from an array of shape 10,10.\n",
    "#Elements range from 1 to 100"
   ]
  },
  {
   "cell_type": "code",
   "execution_count": 20,
   "id": "1143e5b1",
   "metadata": {},
   "outputs": [
    {
     "data": {
      "text/plain": [
       "array([[  1,   2,   3,   4,   5,   6,   7,   8,   9,  10],\n",
       "       [ 11,  12,  13,  14,  15,  16,  17,  18,  19,  20],\n",
       "       [ 21,  22,  23,  24,  25,  26,  27,  28,  29,  30],\n",
       "       [ 31,  32,  33,  34,  35,  36,  37,  38,  39,  40],\n",
       "       [ 41,  42,  43,  44,  45,  46,  47,  48,  49,  50],\n",
       "       [ 51,  52,  53,  54,  55,  56,  57,  58,  59,  60],\n",
       "       [ 61,  62,  63,  64,  65,  66,  67,  68,  69,  70],\n",
       "       [ 71,  72,  73,  74,  75,  76,  77,  78,  79,  80],\n",
       "       [ 81,  82,  83,  84,  85,  86,  87,  88,  89,  90],\n",
       "       [ 91,  92,  93,  94,  95,  96,  97,  98,  99, 100]])"
      ]
     },
     "execution_count": 20,
     "metadata": {},
     "output_type": "execute_result"
    }
   ],
   "source": [
    "arr1=np.arange(1,101).reshape(10,10)\n",
    "arr1"
   ]
  },
  {
   "cell_type": "code",
   "execution_count": 33,
   "id": "e6b356da",
   "metadata": {},
   "outputs": [
    {
     "data": {
      "text/plain": [
       "array([[False, False, False, False, False, False, False, False, False,\n",
       "        False],\n",
       "       [False, False, False, False, False, False, False, False, False,\n",
       "        False],\n",
       "       [False, False, False, False, False, False, False, False, False,\n",
       "        False],\n",
       "       [False, False, False, False,  True, False, False, False, False,\n",
       "         True],\n",
       "       [False, False, False, False,  True, False, False, False, False,\n",
       "         True],\n",
       "       [False, False, False, False,  True, False, False, False, False,\n",
       "         True],\n",
       "       [False, False, False, False,  True, False, False, False, False,\n",
       "         True],\n",
       "       [False, False, False, False,  True, False, False, False, False,\n",
       "        False],\n",
       "       [False, False, False, False, False, False, False, False, False,\n",
       "        False],\n",
       "       [False, False, False, False, False, False, False, False, False,\n",
       "        False]])"
      ]
     },
     "execution_count": 33,
     "metadata": {},
     "output_type": "execute_result"
    }
   ],
   "source": [
    "(arr1>30) & (arr1<80) & (arr1%5==0)"
   ]
  },
  {
   "cell_type": "code",
   "execution_count": 34,
   "id": "e7e26ff5",
   "metadata": {},
   "outputs": [
    {
     "data": {
      "text/plain": [
       "array([35, 40, 45, 50, 55, 60, 65, 70, 75])"
      ]
     },
     "execution_count": 34,
     "metadata": {},
     "output_type": "execute_result"
    }
   ],
   "source": [
    "arr1[(arr1>30) & (arr1<80) & (arr1%5==0)]"
   ]
  },
  {
   "cell_type": "code",
   "execution_count": 8,
   "id": "9172aa35",
   "metadata": {},
   "outputs": [],
   "source": [
    "#Write a program to create a 2D array with 1 on the border and 0 inside."
   ]
  },
  {
   "cell_type": "code",
   "execution_count": 41,
   "id": "fa0652db",
   "metadata": {},
   "outputs": [
    {
     "data": {
      "text/plain": [
       "array([[1, 1, 1, 1],\n",
       "       [1, 1, 1, 1],\n",
       "       [1, 1, 1, 1],\n",
       "       [1, 1, 1, 1]])"
      ]
     },
     "execution_count": 41,
     "metadata": {},
     "output_type": "execute_result"
    }
   ],
   "source": [
    "arr1=np.ones((4,4),dtype=int)\n",
    "arr1"
   ]
  },
  {
   "cell_type": "code",
   "execution_count": 45,
   "id": "3b98ad56",
   "metadata": {},
   "outputs": [
    {
     "data": {
      "text/plain": [
       "array([[1, 1, 1, 1],\n",
       "       [1, 0, 0, 1],\n",
       "       [1, 0, 0, 1],\n",
       "       [1, 1, 1, 1]])"
      ]
     },
     "execution_count": 45,
     "metadata": {},
     "output_type": "execute_result"
    }
   ],
   "source": [
    "arr1[[1,1,2,2],[1,2,1,2]]=0\n",
    "arr1"
   ]
  },
  {
   "cell_type": "code",
   "execution_count": 71,
   "id": "e1f6aea7",
   "metadata": {},
   "outputs": [],
   "source": [
    "#Write a program to create a checkerboard pattern .Don't use default array function\n",
    "#Checkerboard pattern:                                                   \n",
    "#[[0 1 0 1 0 1 0 1]                                                      \n",
    "# [1 0 1 0 1 0 1 0]                                                      \n",
    "# [0 1 0 1 0 1 0 1]                                                      \n",
    "# [1 0 1 0 1 0 1 0]                                                      \n",
    "# [0 1 0 1 0 1 0 1]                                                      \n",
    "# [1 0 1 0 1 0 1 0]  \n",
    "# [0 1 0 1 0 1 0 1]                                                      \n",
    "# [1 0 1 0 1 0 1 0]]"
   ]
  },
  {
   "cell_type": "code",
   "execution_count": 33,
   "id": "a46fe5b3",
   "metadata": {},
   "outputs": [
    {
     "data": {
      "text/plain": [
       "array([[0, 0, 0, 0, 0, 0, 0, 0],\n",
       "       [0, 0, 0, 0, 0, 0, 0, 0],\n",
       "       [0, 0, 0, 0, 0, 0, 0, 0],\n",
       "       [0, 0, 0, 0, 0, 0, 0, 0],\n",
       "       [0, 0, 0, 0, 0, 0, 0, 0],\n",
       "       [0, 0, 0, 0, 0, 0, 0, 0],\n",
       "       [0, 0, 0, 0, 0, 0, 0, 0],\n",
       "       [0, 0, 0, 0, 0, 0, 0, 0]])"
      ]
     },
     "execution_count": 33,
     "metadata": {},
     "output_type": "execute_result"
    }
   ],
   "source": [
    "arr1=np.zeros((8,8),dtype=int)\n",
    "arr1"
   ]
  },
  {
   "cell_type": "code",
   "execution_count": 46,
   "id": "cf2878e9",
   "metadata": {},
   "outputs": [
    {
     "data": {
      "text/plain": [
       "array([[1, 1, 1, 1],\n",
       "       [1, 1, 1, 1],\n",
       "       [1, 1, 1, 1],\n",
       "       [1, 1, 1, 1]])"
      ]
     },
     "execution_count": 46,
     "metadata": {},
     "output_type": "execute_result"
    }
   ],
   "source": [
    "arr1[arr1%2==0]=1\n",
    "arr1"
   ]
  },
  {
   "cell_type": "code",
   "execution_count": 10,
   "id": "e60e3c2b",
   "metadata": {},
   "outputs": [],
   "source": [
    "#Write a program to find common values between two arrays.\n",
    "#Expected Output:\n",
    "#array1: [10 20 40 60]\n",
    "#array2: [10, 30, 40,50]"
   ]
  },
  {
   "cell_type": "code",
   "execution_count": 33,
   "id": "1fbaef1a",
   "metadata": {},
   "outputs": [
    {
     "name": "stdout",
     "output_type": "stream",
     "text": [
      "[10 20 40 60]\n",
      "[10 30 40 50]\n"
     ]
    }
   ],
   "source": [
    "arr1=np.array([10,20,40,60])\n",
    "arr2=np.array([10,30,40,50])\n",
    "print(arr1)\n",
    "print(arr2)"
   ]
  },
  {
   "cell_type": "code",
   "execution_count": 36,
   "id": "835322c1",
   "metadata": {},
   "outputs": [
    {
     "data": {
      "text/plain": [
       "array([10, 40])"
      ]
     },
     "execution_count": 36,
     "metadata": {},
     "output_type": "execute_result"
    }
   ],
   "source": [
    "arr2[arr1==arr2]"
   ]
  },
  {
   "cell_type": "code",
   "execution_count": 11,
   "id": "64f7633e",
   "metadata": {},
   "outputs": [],
   "source": [
    "#Write a program to create an array 2d array and then reshape into 1d array"
   ]
  },
  {
   "cell_type": "code",
   "execution_count": 35,
   "id": "13037aad",
   "metadata": {},
   "outputs": [
    {
     "data": {
      "text/plain": [
       "array([[ 1,  2,  3,  4],\n",
       "       [ 5,  6,  7,  9],\n",
       "       [10, 11, 21, 13],\n",
       "       [14, 15, 16, 18]])"
      ]
     },
     "execution_count": 35,
     "metadata": {},
     "output_type": "execute_result"
    }
   ],
   "source": [
    "arr1=np.array([[1,2,3,4],[5,6,7,9],[10,11,21,13],[14,15,16,18]])\n",
    "arr1"
   ]
  },
  {
   "cell_type": "code",
   "execution_count": 18,
   "id": "3ba6350e",
   "metadata": {},
   "outputs": [
    {
     "data": {
      "text/plain": [
       "array([ 1,  2,  3,  4,  5,  6,  7,  9, 10, 11, 21, 13, 14, 15, 16, 18])"
      ]
     },
     "execution_count": 18,
     "metadata": {},
     "output_type": "execute_result"
    }
   ],
   "source": [
    "arr1.reshape(16,)"
   ]
  },
  {
   "cell_type": "code",
   "execution_count": 12,
   "id": "2da92210",
   "metadata": {},
   "outputs": [],
   "source": [
    "#Write a user defined function for creating a 1 or 2d array from scratch without using array functions"
   ]
  },
  {
   "cell_type": "code",
   "execution_count": 7,
   "id": "e4238314",
   "metadata": {},
   "outputs": [
    {
     "name": "stdout",
     "output_type": "stream",
     "text": [
      "[6, 6, 6, 6, 6]\n"
     ]
    },
    {
     "data": {
      "text/plain": [
       "array([6, 6, 6, 6, 6])"
      ]
     },
     "execution_count": 7,
     "metadata": {},
     "output_type": "execute_result"
    }
   ],
   "source": [
    "def create_1d_array(size,value):\n",
    "    array=[]\n",
    "    for i in range(size):\n",
    "        array.append(value)\n",
    "    return array\n",
    "result=create_1d_array(size=5,value=6)\n",
    "print(result)\n",
    "np.array(result)"
   ]
  },
  {
   "cell_type": "code",
   "execution_count": null,
   "id": "eeb9c2aa",
   "metadata": {},
   "outputs": [],
   "source": []
  }
 ],
 "metadata": {
  "kernelspec": {
   "display_name": "Python 3 (ipykernel)",
   "language": "python",
   "name": "python3"
  },
  "language_info": {
   "codemirror_mode": {
    "name": "ipython",
    "version": 3
   },
   "file_extension": ".py",
   "mimetype": "text/x-python",
   "name": "python",
   "nbconvert_exporter": "python",
   "pygments_lexer": "ipython3",
   "version": "3.9.7"
  }
 },
 "nbformat": 4,
 "nbformat_minor": 5
}
